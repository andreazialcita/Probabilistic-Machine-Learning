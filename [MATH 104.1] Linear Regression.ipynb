{
 "cells": [
  {
   "cell_type": "markdown",
   "id": "7c22e0cf-22f2-44d9-8c9d-ab25598069dc",
   "metadata": {},
   "source": [
    "# I. Problem "
   ]
  },
  {
   "cell_type": "markdown",
   "id": "d31b2fbd-5b69-4543-acc3-a0a39c029c98",
   "metadata": {},
   "source": [
    "## Initialization"
   ]
  },
  {
   "cell_type": "code",
   "execution_count": 36,
   "id": "51ef246d-1488-48dc-8df0-3084ce2e774a",
   "metadata": {
    "tags": []
   },
   "outputs": [],
   "source": [
    "from sklearn.model_selection import train_test_split\n",
    "from sklearn.preprocessing import MinMaxScaler\n",
    "from sklearn.decomposition import PCA\n",
    "from sklearn.linear_model import LinearRegression\n",
    "from sklearn.metrics import mean_squared_error, r2_score\n",
    "\n",
    "import pandas as pd"
   ]
  },
  {
   "cell_type": "markdown",
   "id": "279a6ab2-083f-4880-813f-9b85b4acc91c",
   "metadata": {},
   "source": [
    "## Load dataset"
   ]
  },
  {
   "cell_type": "code",
   "execution_count": 5,
   "id": "dda876ab-1938-4906-ba33-8f5157eea855",
   "metadata": {
    "tags": []
   },
   "outputs": [],
   "source": [
    "df = pd.read_csv('house_pricing.csv')"
   ]
  },
  {
   "cell_type": "markdown",
   "id": "23cc0e2f-11fe-4701-a703-3882a29dce7c",
   "metadata": {},
   "source": [
    "## 1. Splitting the Data into Train and Test Sets"
   ]
  },
  {
   "cell_type": "code",
   "execution_count": 7,
   "id": "8e9543ae-466d-4538-85d1-4c9709fc0e0c",
   "metadata": {
    "tags": []
   },
   "outputs": [],
   "source": [
    "X = df.drop(columns=['house_price','HOUSE_ID'])\n",
    "y = df['house_price']\n",
    "X_train, X_test, y_train, y_test = train_test_split(X, y, test_size=0.2, random_state=42)"
   ]
  },
  {
   "cell_type": "markdown",
   "id": "6f4c2fe5-73c4-4167-808f-07a271051c36",
   "metadata": {},
   "source": [
    "## 2. Scaling the Training Data"
   ]
  },
  {
   "cell_type": "code",
   "execution_count": 9,
   "id": "eb3e5c08-5b89-4c25-bba9-2e2577d2e0e7",
   "metadata": {
    "tags": []
   },
   "outputs": [],
   "source": [
    "scaler = MinMaxScaler()\n",
    "X_train_scaled = scaler.fit_transform(X_train)\n",
    "X_test_scaled = scaler.transform(X_test)"
   ]
  },
  {
   "cell_type": "markdown",
   "id": "efcd8b54-2c82-42f0-b731-2c7d96f3ba3c",
   "metadata": {},
   "source": [
    "## 3. Performing PCA on the Raw and Scaled Data"
   ]
  },
  {
   "cell_type": "code",
   "execution_count": 11,
   "id": "e0e5c67d-f6e2-47fa-8ffb-f03d1af7862e",
   "metadata": {},
   "outputs": [],
   "source": [
    "pca_model = PCA(n_components=0.95)\n",
    "X_train_pca = pca_model.fit_transform(X_train_scaled)\n",
    "X_test_pca = pca_model.transform(X_test_scaled)"
   ]
  },
  {
   "cell_type": "markdown",
   "id": "7147df6b-32a5-4b60-9656-945c6a85ce8c",
   "metadata": {},
   "source": [
    "## 4. Creating a Python Method for Model Training and Evaluation"
   ]
  },
  {
   "cell_type": "code",
   "execution_count": 13,
   "id": "a4c3b419-55b7-4f1c-b4d4-8f924745e900",
   "metadata": {},
   "outputs": [],
   "source": [
    "def train_and_evaluate(X_train, y_train, X_test, y_test):\n",
    "    model = LinearRegression()\n",
    "    model.fit(X_train, y_train)\n",
    "    y_pred = model.predict(X_test)\n",
    "    \n",
    "    mse = mean_squared_error(y_test, y_pred)\n",
    "    r2 = r2_score(y_test, y_pred)\n",
    "    \n",
    "    return model, y_pred, mse, r2, model.coef_, model.intercept_"
   ]
  },
  {
   "cell_type": "markdown",
   "id": "d1942b67-808a-4ad4-9d96-088008dc1cac",
   "metadata": {},
   "source": [
    "## 5. Running Linear Regression on Different Datasets and Evaluating Performance"
   ]
  },
  {
   "cell_type": "code",
   "execution_count": 15,
   "id": "b9cad9bc-2020-4ce7-9f6f-963bb3beb497",
   "metadata": {},
   "outputs": [],
   "source": [
    "def summarize_model(model, y_pred, mse, r2, coef, intercept):\n",
    "    print(\"Model Summary:\")\n",
    "    print(f\"Mean Squared Error: {mse}\")\n",
    "    print(f\"R² Score: {r2}\")\n",
    "    print(f\"Intercept: {intercept}\")\n",
    "    print(f\"Coefficients: {coef}\")\n",
    "    print(\"Predictions:\", y_pred)"
   ]
  },
  {
   "cell_type": "markdown",
   "id": "bbe8bcf0-daf8-454e-943f-19f2e27bca23",
   "metadata": {},
   "source": [
    "## 6. Comparison of Performance"
   ]
  },
  {
   "cell_type": "code",
   "execution_count": 17,
   "id": "0d03ab33-d3b2-4683-8764-1697e4754fcc",
   "metadata": {},
   "outputs": [
    {
     "name": "stdout",
     "output_type": "stream",
     "text": [
      "Model Summary:\n",
      "Mean Squared Error: 2075.226230461456\n",
      "R² Score: 0.9460571801503285\n",
      "Intercept: -1664.1037665329898\n",
      "Coefficients: [ 1.96900471e+01 -1.73561238e+02 -1.22365598e-01  4.93599569e+02\n",
      " -2.15454532e+01]\n",
      "Predictions: [667.68207744 690.30413749 814.4505887  496.63227608 362.59871914\n",
      " 424.09446521 751.93867749 412.66614762 375.86612939 457.06954261\n",
      " 733.46434236 535.79967844 423.80766458 540.01515685 686.70833058\n",
      " 458.1650717  235.79039868 597.11701801 487.35394171 326.84761875\n",
      " 878.80024261 213.61038803 789.21715001 342.000966   317.54066165\n",
      " 457.59415502 558.98412232 804.35193291 268.94407091 887.15282648\n",
      " 451.75258548 394.20486154 278.03300097 324.74026513 274.93954647\n",
      " 902.56982692 716.39408967 457.17483274 682.95114156 508.13320534\n",
      " 742.91882617 757.04961826 641.72297801 318.82552816 574.22705554\n",
      " 900.88207086 576.05400667 427.06671223 660.43186358 463.85939332\n",
      " 475.78613366 542.17139577 367.36438069 186.48893823 829.14251143\n",
      " 435.38625741 290.24985266 704.57773243 406.85792285 826.29054778\n",
      " 464.92470633 607.41331466 862.73394792 897.31410153 504.81223405\n",
      " 823.41541829 724.44976255 352.90543256 804.25682352 875.57874986\n",
      " 606.07386514 707.40977331 662.69759907 721.25499494 471.78636605\n",
      " 599.52418002 396.06202875 482.72554392 328.39209195 758.9555403\n",
      " 662.6795492  687.29169485 898.96573406 423.35097371 603.49189993\n",
      " 452.6093083  393.89251488 586.29615463 465.12928759 203.28778027\n",
      " 811.80921988 291.77319118 432.51450902 786.65327944 575.84252699\n",
      " 850.78606442 219.06438134 699.06033471 526.92673615 726.97593376\n",
      " 682.97036613 615.8466828  499.40283113 437.55567361 693.31364145\n",
      " 539.46118131 883.31830467 490.83425675 859.5021364  500.63787536\n",
      " 446.37411804 599.84383913 772.7050839  436.09802386 428.4845841\n",
      " 504.62109487 760.36203202 658.9927015  194.83872418 431.11449428\n",
      " 801.33219881 483.24289327 569.83383434 704.02891673 440.01848979\n",
      " 567.60895231 728.80744069 799.56238611 606.68067223 725.45494905\n",
      " 504.73906571 763.33948828 737.20864136 520.55747749 872.76038508\n",
      " 344.17262436 820.58416348 712.34063497 261.72146871 605.15894714\n",
      " 540.38628006 554.02229257 905.00233026 518.72891294 350.19936597\n",
      " 696.6536361  630.53867591 274.23018322 889.00080743 523.06585754\n",
      " 907.57890252 620.83884197 266.16101887 764.09906076 863.97565377\n",
      " 735.18553826 717.32881711 706.38748665 645.61676448 656.21233405\n",
      " 422.96397073 286.86577233 390.55099377 308.19848414 865.87754939\n",
      " 447.64963116 783.28303792 862.09583352 863.76919869 559.01352764\n",
      " 770.08437656 888.86386262 232.98777123 760.77526594 311.13440643\n",
      " 563.37580895 284.93080891 683.80915682 403.93829435 811.93561189\n",
      " 661.05746442 664.27702955 355.22424928 545.272204   301.0193389\n",
      " 234.25696638 631.59081843 476.11095261 869.52218521 645.09483665\n",
      " 270.72365032 620.06602862 686.7317487  814.36832364 461.7659242\n",
      " 463.29787132 864.4391524  435.36520121 548.18167275 402.93155669\n",
      " 289.28425222 652.49494761]\n"
     ]
    }
   ],
   "source": [
    "# 1. Run with raw (unscaled) data\n",
    "model_raw, y_pred_raw, mse_raw, r2_raw, coef_raw, intercept_raw = train_and_evaluate(X_train, y_train, X_test, y_test)\n",
    "summarize_model(model_raw, y_pred_raw, mse_raw, r2_raw, coef_raw, intercept_raw)"
   ]
  },
  {
   "cell_type": "code",
   "execution_count": 18,
   "id": "132dcf4e-0e53-42de-b42e-e7324e9347f4",
   "metadata": {},
   "outputs": [
    {
     "data": {
      "text/html": [
       "<style>#sk-container-id-1 {color: black;}#sk-container-id-1 pre{padding: 0;}#sk-container-id-1 div.sk-toggleable {background-color: white;}#sk-container-id-1 label.sk-toggleable__label {cursor: pointer;display: block;width: 100%;margin-bottom: 0;padding: 0.3em;box-sizing: border-box;text-align: center;}#sk-container-id-1 label.sk-toggleable__label-arrow:before {content: \"▸\";float: left;margin-right: 0.25em;color: #696969;}#sk-container-id-1 label.sk-toggleable__label-arrow:hover:before {color: black;}#sk-container-id-1 div.sk-estimator:hover label.sk-toggleable__label-arrow:before {color: black;}#sk-container-id-1 div.sk-toggleable__content {max-height: 0;max-width: 0;overflow: hidden;text-align: left;background-color: #f0f8ff;}#sk-container-id-1 div.sk-toggleable__content pre {margin: 0.2em;color: black;border-radius: 0.25em;background-color: #f0f8ff;}#sk-container-id-1 input.sk-toggleable__control:checked~div.sk-toggleable__content {max-height: 200px;max-width: 100%;overflow: auto;}#sk-container-id-1 input.sk-toggleable__control:checked~label.sk-toggleable__label-arrow:before {content: \"▾\";}#sk-container-id-1 div.sk-estimator input.sk-toggleable__control:checked~label.sk-toggleable__label {background-color: #d4ebff;}#sk-container-id-1 div.sk-label input.sk-toggleable__control:checked~label.sk-toggleable__label {background-color: #d4ebff;}#sk-container-id-1 input.sk-hidden--visually {border: 0;clip: rect(1px 1px 1px 1px);clip: rect(1px, 1px, 1px, 1px);height: 1px;margin: -1px;overflow: hidden;padding: 0;position: absolute;width: 1px;}#sk-container-id-1 div.sk-estimator {font-family: monospace;background-color: #f0f8ff;border: 1px dotted black;border-radius: 0.25em;box-sizing: border-box;margin-bottom: 0.5em;}#sk-container-id-1 div.sk-estimator:hover {background-color: #d4ebff;}#sk-container-id-1 div.sk-parallel-item::after {content: \"\";width: 100%;border-bottom: 1px solid gray;flex-grow: 1;}#sk-container-id-1 div.sk-label:hover label.sk-toggleable__label {background-color: #d4ebff;}#sk-container-id-1 div.sk-serial::before {content: \"\";position: absolute;border-left: 1px solid gray;box-sizing: border-box;top: 0;bottom: 0;left: 50%;z-index: 0;}#sk-container-id-1 div.sk-serial {display: flex;flex-direction: column;align-items: center;background-color: white;padding-right: 0.2em;padding-left: 0.2em;position: relative;}#sk-container-id-1 div.sk-item {position: relative;z-index: 1;}#sk-container-id-1 div.sk-parallel {display: flex;align-items: stretch;justify-content: center;background-color: white;position: relative;}#sk-container-id-1 div.sk-item::before, #sk-container-id-1 div.sk-parallel-item::before {content: \"\";position: absolute;border-left: 1px solid gray;box-sizing: border-box;top: 0;bottom: 0;left: 50%;z-index: -1;}#sk-container-id-1 div.sk-parallel-item {display: flex;flex-direction: column;z-index: 1;position: relative;background-color: white;}#sk-container-id-1 div.sk-parallel-item:first-child::after {align-self: flex-end;width: 50%;}#sk-container-id-1 div.sk-parallel-item:last-child::after {align-self: flex-start;width: 50%;}#sk-container-id-1 div.sk-parallel-item:only-child::after {width: 0;}#sk-container-id-1 div.sk-dashed-wrapped {border: 1px dashed gray;margin: 0 0.4em 0.5em 0.4em;box-sizing: border-box;padding-bottom: 0.4em;background-color: white;}#sk-container-id-1 div.sk-label label {font-family: monospace;font-weight: bold;display: inline-block;line-height: 1.2em;}#sk-container-id-1 div.sk-label-container {text-align: center;}#sk-container-id-1 div.sk-container {/* jupyter's `normalize.less` sets `[hidden] { display: none; }` but bootstrap.min.css set `[hidden] { display: none !important; }` so we also need the `!important` here to be able to override the default hidden behavior on the sphinx rendered scikit-learn.org. See: https://github.com/scikit-learn/scikit-learn/issues/21755 */display: inline-block !important;position: relative;}#sk-container-id-1 div.sk-text-repr-fallback {display: none;}</style><div id=\"sk-container-id-1\" class=\"sk-top-container\"><div class=\"sk-text-repr-fallback\"><pre>LinearRegression()</pre><b>In a Jupyter environment, please rerun this cell to show the HTML representation or trust the notebook. <br />On GitHub, the HTML representation is unable to render, please try loading this page with nbviewer.org.</b></div><div class=\"sk-container\" hidden><div class=\"sk-item\"><div class=\"sk-estimator sk-toggleable\"><input class=\"sk-toggleable__control sk-hidden--visually\" id=\"sk-estimator-id-1\" type=\"checkbox\" checked><label for=\"sk-estimator-id-1\" class=\"sk-toggleable__label sk-toggleable__label-arrow\">LinearRegression</label><div class=\"sk-toggleable__content\"><pre>LinearRegression()</pre></div></div></div></div></div>"
      ],
      "text/plain": [
       "LinearRegression()"
      ]
     },
     "execution_count": 18,
     "metadata": {},
     "output_type": "execute_result"
    }
   ],
   "source": [
    "model_raw"
   ]
  },
  {
   "cell_type": "code",
   "execution_count": 19,
   "id": "0f826855-44c2-46f8-8706-40ec91077ef0",
   "metadata": {},
   "outputs": [
    {
     "name": "stdout",
     "output_type": "stream",
     "text": [
      "Model Summary:\n",
      "Mean Squared Error: 2352.8953326441733\n",
      "R² Score: 0.9388395312323444\n",
      "Intercept: 554.3561940298507\n",
      "Coefficients: [-3.43649124  0.05577442]\n",
      "Predictions: [699.78608301 678.24360012 843.44732185 522.84126252 375.79848362\n",
      " 430.98773225 722.75583977 421.22805388 374.18220445 459.82071242\n",
      " 705.62827842 529.78890359 430.94013127 507.43729582 716.40892674\n",
      " 460.26461391 208.76431853 626.04782392 513.06579966 319.1373351\n",
      " 874.82055771 243.20014629 822.18931432 370.91171994 308.93871897\n",
      " 446.13434891 575.38707636 835.4334678  238.24500076 871.62086867\n",
      " 439.80317639 376.81023284 248.14993454 341.95030725 285.74410338\n",
      " 884.32011975 729.62780207 486.93133088 699.18707774 490.88954585\n",
      " 780.06601541 753.03608516 625.08317145 334.38077713 538.66780916\n",
      " 868.87028752 592.76448321 406.99207825 656.22695667 427.44482437\n",
      " 476.18067044 574.19863508 352.98634981 216.96288443 845.41514417\n",
      " 440.00247175 323.27442477 720.00758014 403.53868026 854.23946121\n",
      " 480.29919695 635.05251672 848.39338379 893.51208753 488.92681957\n",
      " 853.32402831 737.67825173 338.64951658 794.45146326 888.27865917\n",
      " 632.84676375 694.97545836 667.25667023 694.32263069 471.4840931\n",
      " 585.55612706 378.4964358  469.19642757 319.30776796 756.40574198\n",
      " 681.24012551 689.91844159 867.27390517 455.5613611  602.90798147\n",
      " 454.98186663 390.58241017 601.11023247 438.50396003 220.01298333\n",
      " 801.50024858 259.53021578 462.85443564 791.25712396 564.01603992\n",
      " 836.00761118 232.76581412 702.61786761 510.69737854 700.53719275\n",
      " 662.26500643 642.16313802 470.55709388 430.72642114 682.56127866\n",
      " 519.74387336 865.28245972 518.32611858 845.48741973 525.17206199\n",
      " 426.64449024 571.33143727 792.14120062 416.32645163 421.78553626\n",
      " 489.10048206 780.96358634 626.50226434 224.6084226  412.41547674\n",
      " 790.8959438  510.05380806 549.19076716 719.19153576 419.85254899\n",
      " 570.56636683 755.46264755 790.88434104 633.95762236 698.34884149\n",
      " 530.29777134 797.93654196 723.71096077 503.80963795 883.78731814\n",
      " 307.8406895  849.69352063 700.14075509 232.71940174 630.81263841\n",
      " 507.90661261 535.46647129 886.05733309 516.60215684 351.29181635\n",
      " 726.20460333 641.55731394 297.57879479 886.17763343 519.7957616\n",
      " 874.41131633 632.86310783 277.05868801 747.3255378  835.13411743\n",
      " 734.19187891 744.67989632 734.2974524  655.80372916 651.28088855\n",
      " 402.52674991 281.96626281 374.64508227 315.28978831 838.25171414\n",
      " 427.73137102 777.70656655 860.89443493 889.34740369 524.59361897\n",
      " 752.03114856 857.3909773  246.65814847 771.77173233 328.20878942\n",
      " 528.9149496  308.06846104 674.56165961 372.18878087 801.82472759\n",
      " 666.86497391 631.78901841 381.1945375  526.58801977 294.33481347\n",
      " 247.19671743 654.85694484 448.83335872 882.90668868 655.45502963\n",
      " 295.38141011 646.49301671 716.96465475 831.22374613 448.39613889\n",
      " 428.10580277 836.52927028 437.16934904 515.14442729 412.17857212\n",
      " 297.93899154 660.71116681]\n"
     ]
    }
   ],
   "source": [
    "# 2. Run with PCA-reduced data (raw, unscaled data)\n",
    "pca_raw = PCA(n_components=0.95)\n",
    "X_train_pca_raw = pca_raw.fit_transform(X_train)\n",
    "X_test_pca_raw = pca_raw.transform(X_test)\n",
    "model_pca_raw, y_pred_pca_raw, mse_pca_raw, r2_pca_raw, coef_pca_raw, intercept_pca_raw = train_and_evaluate(X_train_pca_raw, y_train, X_test_pca_raw, y_test)\n",
    "summarize_model(model_pca_raw, y_pred_pca_raw, mse_pca_raw, r2_pca_raw, coef_pca_raw, intercept_pca_raw)"
   ]
  },
  {
   "cell_type": "code",
   "execution_count": 20,
   "id": "08aef36d-8365-4c1a-9732-1bb86ad16387",
   "metadata": {},
   "outputs": [
    {
     "data": {
      "text/html": [
       "<style>#sk-container-id-2 {color: black;}#sk-container-id-2 pre{padding: 0;}#sk-container-id-2 div.sk-toggleable {background-color: white;}#sk-container-id-2 label.sk-toggleable__label {cursor: pointer;display: block;width: 100%;margin-bottom: 0;padding: 0.3em;box-sizing: border-box;text-align: center;}#sk-container-id-2 label.sk-toggleable__label-arrow:before {content: \"▸\";float: left;margin-right: 0.25em;color: #696969;}#sk-container-id-2 label.sk-toggleable__label-arrow:hover:before {color: black;}#sk-container-id-2 div.sk-estimator:hover label.sk-toggleable__label-arrow:before {color: black;}#sk-container-id-2 div.sk-toggleable__content {max-height: 0;max-width: 0;overflow: hidden;text-align: left;background-color: #f0f8ff;}#sk-container-id-2 div.sk-toggleable__content pre {margin: 0.2em;color: black;border-radius: 0.25em;background-color: #f0f8ff;}#sk-container-id-2 input.sk-toggleable__control:checked~div.sk-toggleable__content {max-height: 200px;max-width: 100%;overflow: auto;}#sk-container-id-2 input.sk-toggleable__control:checked~label.sk-toggleable__label-arrow:before {content: \"▾\";}#sk-container-id-2 div.sk-estimator input.sk-toggleable__control:checked~label.sk-toggleable__label {background-color: #d4ebff;}#sk-container-id-2 div.sk-label input.sk-toggleable__control:checked~label.sk-toggleable__label {background-color: #d4ebff;}#sk-container-id-2 input.sk-hidden--visually {border: 0;clip: rect(1px 1px 1px 1px);clip: rect(1px, 1px, 1px, 1px);height: 1px;margin: -1px;overflow: hidden;padding: 0;position: absolute;width: 1px;}#sk-container-id-2 div.sk-estimator {font-family: monospace;background-color: #f0f8ff;border: 1px dotted black;border-radius: 0.25em;box-sizing: border-box;margin-bottom: 0.5em;}#sk-container-id-2 div.sk-estimator:hover {background-color: #d4ebff;}#sk-container-id-2 div.sk-parallel-item::after {content: \"\";width: 100%;border-bottom: 1px solid gray;flex-grow: 1;}#sk-container-id-2 div.sk-label:hover label.sk-toggleable__label {background-color: #d4ebff;}#sk-container-id-2 div.sk-serial::before {content: \"\";position: absolute;border-left: 1px solid gray;box-sizing: border-box;top: 0;bottom: 0;left: 50%;z-index: 0;}#sk-container-id-2 div.sk-serial {display: flex;flex-direction: column;align-items: center;background-color: white;padding-right: 0.2em;padding-left: 0.2em;position: relative;}#sk-container-id-2 div.sk-item {position: relative;z-index: 1;}#sk-container-id-2 div.sk-parallel {display: flex;align-items: stretch;justify-content: center;background-color: white;position: relative;}#sk-container-id-2 div.sk-item::before, #sk-container-id-2 div.sk-parallel-item::before {content: \"\";position: absolute;border-left: 1px solid gray;box-sizing: border-box;top: 0;bottom: 0;left: 50%;z-index: -1;}#sk-container-id-2 div.sk-parallel-item {display: flex;flex-direction: column;z-index: 1;position: relative;background-color: white;}#sk-container-id-2 div.sk-parallel-item:first-child::after {align-self: flex-end;width: 50%;}#sk-container-id-2 div.sk-parallel-item:last-child::after {align-self: flex-start;width: 50%;}#sk-container-id-2 div.sk-parallel-item:only-child::after {width: 0;}#sk-container-id-2 div.sk-dashed-wrapped {border: 1px dashed gray;margin: 0 0.4em 0.5em 0.4em;box-sizing: border-box;padding-bottom: 0.4em;background-color: white;}#sk-container-id-2 div.sk-label label {font-family: monospace;font-weight: bold;display: inline-block;line-height: 1.2em;}#sk-container-id-2 div.sk-label-container {text-align: center;}#sk-container-id-2 div.sk-container {/* jupyter's `normalize.less` sets `[hidden] { display: none; }` but bootstrap.min.css set `[hidden] { display: none !important; }` so we also need the `!important` here to be able to override the default hidden behavior on the sphinx rendered scikit-learn.org. See: https://github.com/scikit-learn/scikit-learn/issues/21755 */display: inline-block !important;position: relative;}#sk-container-id-2 div.sk-text-repr-fallback {display: none;}</style><div id=\"sk-container-id-2\" class=\"sk-top-container\"><div class=\"sk-text-repr-fallback\"><pre>LinearRegression()</pre><b>In a Jupyter environment, please rerun this cell to show the HTML representation or trust the notebook. <br />On GitHub, the HTML representation is unable to render, please try loading this page with nbviewer.org.</b></div><div class=\"sk-container\" hidden><div class=\"sk-item\"><div class=\"sk-estimator sk-toggleable\"><input class=\"sk-toggleable__control sk-hidden--visually\" id=\"sk-estimator-id-2\" type=\"checkbox\" checked><label for=\"sk-estimator-id-2\" class=\"sk-toggleable__label sk-toggleable__label-arrow\">LinearRegression</label><div class=\"sk-toggleable__content\"><pre>LinearRegression()</pre></div></div></div></div></div>"
      ],
      "text/plain": [
       "LinearRegression()"
      ]
     },
     "execution_count": 20,
     "metadata": {},
     "output_type": "execute_result"
    }
   ],
   "source": [
    "model_pca_raw"
   ]
  },
  {
   "cell_type": "code",
   "execution_count": 21,
   "id": "ed3c5602-5377-4397-9654-7d4b80f095c8",
   "metadata": {},
   "outputs": [
    {
     "name": "stdout",
     "output_type": "stream",
     "text": [
      "Model Summary:\n",
      "Mean Squared Error: 2075.226230461454\n",
      "R² Score: 0.9460571801503286\n",
      "Intercept: 98.35985521189889\n",
      "Coefficients: [ 3934.26831544 -5015.91978608    -5.87354869  1974.398277\n",
      "   -64.63635948]\n",
      "Predictions: [667.68207744 690.30413749 814.4505887  496.63227608 362.59871914\n",
      " 424.09446521 751.93867749 412.66614762 375.86612939 457.06954261\n",
      " 733.46434236 535.79967844 423.80766458 540.01515685 686.70833058\n",
      " 458.1650717  235.79039868 597.11701801 487.35394171 326.84761875\n",
      " 878.80024261 213.61038803 789.21715001 342.000966   317.54066165\n",
      " 457.59415502 558.98412232 804.35193291 268.94407091 887.15282648\n",
      " 451.75258548 394.20486154 278.03300097 324.74026513 274.93954647\n",
      " 902.56982692 716.39408967 457.17483274 682.95114156 508.13320534\n",
      " 742.91882617 757.04961826 641.72297801 318.82552816 574.22705554\n",
      " 900.88207086 576.05400667 427.06671223 660.43186358 463.85939332\n",
      " 475.78613366 542.17139577 367.36438069 186.48893823 829.14251143\n",
      " 435.38625741 290.24985266 704.57773243 406.85792285 826.29054778\n",
      " 464.92470633 607.41331466 862.73394792 897.31410153 504.81223405\n",
      " 823.41541829 724.44976255 352.90543256 804.25682352 875.57874986\n",
      " 606.07386514 707.40977331 662.69759907 721.25499494 471.78636605\n",
      " 599.52418002 396.06202875 482.72554392 328.39209195 758.9555403\n",
      " 662.6795492  687.29169485 898.96573406 423.35097371 603.49189993\n",
      " 452.6093083  393.89251488 586.29615463 465.12928759 203.28778027\n",
      " 811.80921988 291.77319118 432.51450902 786.65327944 575.84252699\n",
      " 850.78606442 219.06438134 699.06033471 526.92673615 726.97593376\n",
      " 682.97036613 615.8466828  499.40283113 437.55567361 693.31364145\n",
      " 539.46118131 883.31830467 490.83425675 859.5021364  500.63787536\n",
      " 446.37411804 599.84383913 772.7050839  436.09802386 428.4845841\n",
      " 504.62109487 760.36203202 658.9927015  194.83872418 431.11449428\n",
      " 801.33219881 483.24289327 569.83383434 704.02891673 440.01848979\n",
      " 567.60895231 728.80744069 799.56238611 606.68067223 725.45494905\n",
      " 504.73906571 763.33948828 737.20864136 520.55747749 872.76038508\n",
      " 344.17262436 820.58416348 712.34063497 261.72146871 605.15894714\n",
      " 540.38628006 554.02229257 905.00233026 518.72891294 350.19936597\n",
      " 696.6536361  630.53867591 274.23018322 889.00080743 523.06585754\n",
      " 907.57890252 620.83884197 266.16101887 764.09906076 863.97565377\n",
      " 735.18553826 717.32881711 706.38748665 645.61676448 656.21233405\n",
      " 422.96397073 286.86577233 390.55099377 308.19848414 865.87754939\n",
      " 447.64963116 783.28303792 862.09583352 863.76919869 559.01352764\n",
      " 770.08437656 888.86386262 232.98777123 760.77526594 311.13440643\n",
      " 563.37580895 284.93080891 683.80915682 403.93829435 811.93561189\n",
      " 661.05746442 664.27702955 355.22424928 545.272204   301.0193389\n",
      " 234.25696638 631.59081843 476.11095261 869.52218521 645.09483665\n",
      " 270.72365032 620.06602862 686.7317487  814.36832364 461.7659242\n",
      " 463.29787132 864.4391524  435.36520121 548.18167275 402.93155669\n",
      " 289.28425222 652.49494761]\n"
     ]
    }
   ],
   "source": [
    "# 3. Run with scaled data\n",
    "model_scaled, y_pred_scaled, mse_scaled, r2_scaled, coef_scaled, intercept_scaled = train_and_evaluate(X_train_scaled, y_train, X_test_scaled, y_test)\n",
    "summarize_model(model_scaled, y_pred_scaled, mse_scaled, r2_scaled, coef_scaled, intercept_scaled)"
   ]
  },
  {
   "cell_type": "code",
   "execution_count": 22,
   "id": "1aa486a8-ea95-4dc2-9bbf-715375a9f162",
   "metadata": {},
   "outputs": [
    {
     "data": {
      "text/html": [
       "<style>#sk-container-id-3 {color: black;}#sk-container-id-3 pre{padding: 0;}#sk-container-id-3 div.sk-toggleable {background-color: white;}#sk-container-id-3 label.sk-toggleable__label {cursor: pointer;display: block;width: 100%;margin-bottom: 0;padding: 0.3em;box-sizing: border-box;text-align: center;}#sk-container-id-3 label.sk-toggleable__label-arrow:before {content: \"▸\";float: left;margin-right: 0.25em;color: #696969;}#sk-container-id-3 label.sk-toggleable__label-arrow:hover:before {color: black;}#sk-container-id-3 div.sk-estimator:hover label.sk-toggleable__label-arrow:before {color: black;}#sk-container-id-3 div.sk-toggleable__content {max-height: 0;max-width: 0;overflow: hidden;text-align: left;background-color: #f0f8ff;}#sk-container-id-3 div.sk-toggleable__content pre {margin: 0.2em;color: black;border-radius: 0.25em;background-color: #f0f8ff;}#sk-container-id-3 input.sk-toggleable__control:checked~div.sk-toggleable__content {max-height: 200px;max-width: 100%;overflow: auto;}#sk-container-id-3 input.sk-toggleable__control:checked~label.sk-toggleable__label-arrow:before {content: \"▾\";}#sk-container-id-3 div.sk-estimator input.sk-toggleable__control:checked~label.sk-toggleable__label {background-color: #d4ebff;}#sk-container-id-3 div.sk-label input.sk-toggleable__control:checked~label.sk-toggleable__label {background-color: #d4ebff;}#sk-container-id-3 input.sk-hidden--visually {border: 0;clip: rect(1px 1px 1px 1px);clip: rect(1px, 1px, 1px, 1px);height: 1px;margin: -1px;overflow: hidden;padding: 0;position: absolute;width: 1px;}#sk-container-id-3 div.sk-estimator {font-family: monospace;background-color: #f0f8ff;border: 1px dotted black;border-radius: 0.25em;box-sizing: border-box;margin-bottom: 0.5em;}#sk-container-id-3 div.sk-estimator:hover {background-color: #d4ebff;}#sk-container-id-3 div.sk-parallel-item::after {content: \"\";width: 100%;border-bottom: 1px solid gray;flex-grow: 1;}#sk-container-id-3 div.sk-label:hover label.sk-toggleable__label {background-color: #d4ebff;}#sk-container-id-3 div.sk-serial::before {content: \"\";position: absolute;border-left: 1px solid gray;box-sizing: border-box;top: 0;bottom: 0;left: 50%;z-index: 0;}#sk-container-id-3 div.sk-serial {display: flex;flex-direction: column;align-items: center;background-color: white;padding-right: 0.2em;padding-left: 0.2em;position: relative;}#sk-container-id-3 div.sk-item {position: relative;z-index: 1;}#sk-container-id-3 div.sk-parallel {display: flex;align-items: stretch;justify-content: center;background-color: white;position: relative;}#sk-container-id-3 div.sk-item::before, #sk-container-id-3 div.sk-parallel-item::before {content: \"\";position: absolute;border-left: 1px solid gray;box-sizing: border-box;top: 0;bottom: 0;left: 50%;z-index: -1;}#sk-container-id-3 div.sk-parallel-item {display: flex;flex-direction: column;z-index: 1;position: relative;background-color: white;}#sk-container-id-3 div.sk-parallel-item:first-child::after {align-self: flex-end;width: 50%;}#sk-container-id-3 div.sk-parallel-item:last-child::after {align-self: flex-start;width: 50%;}#sk-container-id-3 div.sk-parallel-item:only-child::after {width: 0;}#sk-container-id-3 div.sk-dashed-wrapped {border: 1px dashed gray;margin: 0 0.4em 0.5em 0.4em;box-sizing: border-box;padding-bottom: 0.4em;background-color: white;}#sk-container-id-3 div.sk-label label {font-family: monospace;font-weight: bold;display: inline-block;line-height: 1.2em;}#sk-container-id-3 div.sk-label-container {text-align: center;}#sk-container-id-3 div.sk-container {/* jupyter's `normalize.less` sets `[hidden] { display: none; }` but bootstrap.min.css set `[hidden] { display: none !important; }` so we also need the `!important` here to be able to override the default hidden behavior on the sphinx rendered scikit-learn.org. See: https://github.com/scikit-learn/scikit-learn/issues/21755 */display: inline-block !important;position: relative;}#sk-container-id-3 div.sk-text-repr-fallback {display: none;}</style><div id=\"sk-container-id-3\" class=\"sk-top-container\"><div class=\"sk-text-repr-fallback\"><pre>LinearRegression()</pre><b>In a Jupyter environment, please rerun this cell to show the HTML representation or trust the notebook. <br />On GitHub, the HTML representation is unable to render, please try loading this page with nbviewer.org.</b></div><div class=\"sk-container\" hidden><div class=\"sk-item\"><div class=\"sk-estimator sk-toggleable\"><input class=\"sk-toggleable__control sk-hidden--visually\" id=\"sk-estimator-id-3\" type=\"checkbox\" checked><label for=\"sk-estimator-id-3\" class=\"sk-toggleable__label sk-toggleable__label-arrow\">LinearRegression</label><div class=\"sk-toggleable__content\"><pre>LinearRegression()</pre></div></div></div></div></div>"
      ],
      "text/plain": [
       "LinearRegression()"
      ]
     },
     "execution_count": 22,
     "metadata": {},
     "output_type": "execute_result"
    }
   ],
   "source": [
    "model_scaled"
   ]
  },
  {
   "cell_type": "code",
   "execution_count": 23,
   "id": "287d7c09-d9f2-4148-ab68-1b9cdf95cbf2",
   "metadata": {},
   "outputs": [
    {
     "name": "stdout",
     "output_type": "stream",
     "text": [
      "Model Summary:\n",
      "Mean Squared Error: 2142.8877975335804\n",
      "R² Score: 0.9442984052901502\n",
      "Intercept: 554.3561940298507\n",
      "Coefficients: [ 415.94770736 -159.7888672   -12.21122076]\n",
      "Predictions: [678.60018702 713.80460821 812.5440328  478.54627901 358.99703874\n",
      " 394.74840216 752.81640292 388.20285252 373.65006797 471.86815231\n",
      " 742.3607535  516.64655083 395.28155787 533.64647877 690.93175969\n",
      " 472.01576655 260.03312719 586.36193911 476.15436654 296.79579761\n",
      " 862.21354946 218.51376698 797.15644723 340.98599765 291.1907454\n",
      " 478.66574148 574.47419316 804.83442377 277.80853775 871.43903157\n",
      " 479.04929833 393.54999312 282.77639526 339.93938348 259.98865353\n",
      " 882.63597378 713.38557682 456.68582835 696.12438978 508.81457587\n",
      " 772.47098061 743.03902674 633.13991154 337.89052205 550.36202874\n",
      " 886.47067196 581.63395942 409.28702146 635.68792528 437.500015\n",
      " 482.57136747 556.98963801 376.33404632 205.41627597 825.52318623\n",
      " 459.83863772 314.14160011 707.86260354 390.77848549 818.70860789\n",
      " 469.86305999 592.56616181 860.31751603 869.31693946 504.10696687\n",
      " 815.83979773 717.50375456 370.15909273 828.19088136 851.9579378\n",
      " 593.16581175 722.67799858 690.55726863 737.82249218 482.44038117\n",
      " 611.13583341 392.60649304 493.52898555 297.76991214 742.87258101\n",
      " 685.40256205 704.63554394 887.10393901 438.94770202 603.98992789\n",
      " 468.80741266 386.33797212 590.09948703 492.23847275 220.28996521\n",
      " 831.69887085 290.25657164 446.33050919 812.14920508 597.26783962\n",
      " 853.06565357 229.29618421 709.41786371 516.8843258  738.84452996\n",
      " 654.72106326 598.66225806 509.28318795 410.42825503 712.81134256\n",
      " 525.15566126 871.65540271 475.09035937 856.58213764 482.26256538\n",
      " 419.54513123 618.89333166 795.95528851 413.43849666 405.05037279\n",
      " 505.14406831 791.22551804 650.47653282 209.54677524 411.71497351\n",
      " 826.06492828 471.36972499 541.07235666 704.97438172 415.69533535\n",
      " 584.60923861 712.91910918 823.9081418  591.26051869 739.0006979\n",
      " 483.94912394 782.95536056 737.61601253 515.00233045 851.91410201\n",
      " 317.96092675 816.24385106 723.62300382 273.49282036 592.93659804\n",
      " 533.55900861 531.36627569 882.16500588 505.9393489  361.58569163\n",
      " 694.78736714 614.17508503 254.24856157 865.38015289 508.34175809\n",
      " 892.10467365 609.06606412 255.1292421  751.0128786  866.80471236\n",
      " 729.04611874 706.10265448 700.07116855 621.56176074 633.38090066\n",
      " 408.10661218 273.70248908 390.66241058 276.78742637 867.1254837\n",
      " 420.64237675 757.58160017 853.42600586 839.85939823 541.24500028\n",
      " 755.96390677 880.8953092  236.22501265 737.69054835 331.61948549\n",
      " 545.82785489 259.52633247 708.22299601 405.42975658 831.34490274\n",
      " 689.07920838 653.7890855  349.82378629 527.67501113 282.34053452\n",
      " 239.83553595 606.98754727 495.93146141 848.15832785 620.34783507\n",
      " 249.58468764 598.92428978 689.52836861 818.71324149 483.25446677\n",
      " 437.10467519 866.18849359 461.74964165 535.79465243 384.43896252\n",
      " 267.58959752 625.59425154]\n"
     ]
    }
   ],
   "source": [
    "# 4. Run with scaled and PCA-reduced data\n",
    "model_pca_scaled, y_pred_pca_scaled, mse_pca_scaled, r2_pca_scaled, coef_pca_scaled, intercept_pca_scaled = train_and_evaluate(X_train_pca, y_train, X_test_pca, y_test)\n",
    "summarize_model(model_pca_scaled, y_pred_pca_scaled, mse_pca_scaled, r2_pca_scaled, coef_pca_scaled, intercept_pca_scaled)"
   ]
  },
  {
   "cell_type": "code",
   "execution_count": 24,
   "id": "9c53e2fa-ec2a-422a-9a77-adc74dc85ade",
   "metadata": {},
   "outputs": [
    {
     "data": {
      "text/html": [
       "<style>#sk-container-id-4 {color: black;}#sk-container-id-4 pre{padding: 0;}#sk-container-id-4 div.sk-toggleable {background-color: white;}#sk-container-id-4 label.sk-toggleable__label {cursor: pointer;display: block;width: 100%;margin-bottom: 0;padding: 0.3em;box-sizing: border-box;text-align: center;}#sk-container-id-4 label.sk-toggleable__label-arrow:before {content: \"▸\";float: left;margin-right: 0.25em;color: #696969;}#sk-container-id-4 label.sk-toggleable__label-arrow:hover:before {color: black;}#sk-container-id-4 div.sk-estimator:hover label.sk-toggleable__label-arrow:before {color: black;}#sk-container-id-4 div.sk-toggleable__content {max-height: 0;max-width: 0;overflow: hidden;text-align: left;background-color: #f0f8ff;}#sk-container-id-4 div.sk-toggleable__content pre {margin: 0.2em;color: black;border-radius: 0.25em;background-color: #f0f8ff;}#sk-container-id-4 input.sk-toggleable__control:checked~div.sk-toggleable__content {max-height: 200px;max-width: 100%;overflow: auto;}#sk-container-id-4 input.sk-toggleable__control:checked~label.sk-toggleable__label-arrow:before {content: \"▾\";}#sk-container-id-4 div.sk-estimator input.sk-toggleable__control:checked~label.sk-toggleable__label {background-color: #d4ebff;}#sk-container-id-4 div.sk-label input.sk-toggleable__control:checked~label.sk-toggleable__label {background-color: #d4ebff;}#sk-container-id-4 input.sk-hidden--visually {border: 0;clip: rect(1px 1px 1px 1px);clip: rect(1px, 1px, 1px, 1px);height: 1px;margin: -1px;overflow: hidden;padding: 0;position: absolute;width: 1px;}#sk-container-id-4 div.sk-estimator {font-family: monospace;background-color: #f0f8ff;border: 1px dotted black;border-radius: 0.25em;box-sizing: border-box;margin-bottom: 0.5em;}#sk-container-id-4 div.sk-estimator:hover {background-color: #d4ebff;}#sk-container-id-4 div.sk-parallel-item::after {content: \"\";width: 100%;border-bottom: 1px solid gray;flex-grow: 1;}#sk-container-id-4 div.sk-label:hover label.sk-toggleable__label {background-color: #d4ebff;}#sk-container-id-4 div.sk-serial::before {content: \"\";position: absolute;border-left: 1px solid gray;box-sizing: border-box;top: 0;bottom: 0;left: 50%;z-index: 0;}#sk-container-id-4 div.sk-serial {display: flex;flex-direction: column;align-items: center;background-color: white;padding-right: 0.2em;padding-left: 0.2em;position: relative;}#sk-container-id-4 div.sk-item {position: relative;z-index: 1;}#sk-container-id-4 div.sk-parallel {display: flex;align-items: stretch;justify-content: center;background-color: white;position: relative;}#sk-container-id-4 div.sk-item::before, #sk-container-id-4 div.sk-parallel-item::before {content: \"\";position: absolute;border-left: 1px solid gray;box-sizing: border-box;top: 0;bottom: 0;left: 50%;z-index: -1;}#sk-container-id-4 div.sk-parallel-item {display: flex;flex-direction: column;z-index: 1;position: relative;background-color: white;}#sk-container-id-4 div.sk-parallel-item:first-child::after {align-self: flex-end;width: 50%;}#sk-container-id-4 div.sk-parallel-item:last-child::after {align-self: flex-start;width: 50%;}#sk-container-id-4 div.sk-parallel-item:only-child::after {width: 0;}#sk-container-id-4 div.sk-dashed-wrapped {border: 1px dashed gray;margin: 0 0.4em 0.5em 0.4em;box-sizing: border-box;padding-bottom: 0.4em;background-color: white;}#sk-container-id-4 div.sk-label label {font-family: monospace;font-weight: bold;display: inline-block;line-height: 1.2em;}#sk-container-id-4 div.sk-label-container {text-align: center;}#sk-container-id-4 div.sk-container {/* jupyter's `normalize.less` sets `[hidden] { display: none; }` but bootstrap.min.css set `[hidden] { display: none !important; }` so we also need the `!important` here to be able to override the default hidden behavior on the sphinx rendered scikit-learn.org. See: https://github.com/scikit-learn/scikit-learn/issues/21755 */display: inline-block !important;position: relative;}#sk-container-id-4 div.sk-text-repr-fallback {display: none;}</style><div id=\"sk-container-id-4\" class=\"sk-top-container\"><div class=\"sk-text-repr-fallback\"><pre>LinearRegression()</pre><b>In a Jupyter environment, please rerun this cell to show the HTML representation or trust the notebook. <br />On GitHub, the HTML representation is unable to render, please try loading this page with nbviewer.org.</b></div><div class=\"sk-container\" hidden><div class=\"sk-item\"><div class=\"sk-estimator sk-toggleable\"><input class=\"sk-toggleable__control sk-hidden--visually\" id=\"sk-estimator-id-4\" type=\"checkbox\" checked><label for=\"sk-estimator-id-4\" class=\"sk-toggleable__label sk-toggleable__label-arrow\">LinearRegression</label><div class=\"sk-toggleable__content\"><pre>LinearRegression()</pre></div></div></div></div></div>"
      ],
      "text/plain": [
       "LinearRegression()"
      ]
     },
     "execution_count": 24,
     "metadata": {},
     "output_type": "execute_result"
    }
   ],
   "source": [
    "model_pca_scaled"
   ]
  },
  {
   "cell_type": "code",
   "execution_count": 25,
   "id": "afb72642-8c73-42c0-b137-a396724178c0",
   "metadata": {},
   "outputs": [
    {
     "name": "stdout",
     "output_type": "stream",
     "text": [
      "Raw Data - MSE: 2075.226230461456, R²: 0.9460571801503285\n",
      "Raw Data with PCA - MSE: 2352.8953326441733, R²: 0.9388395312323444\n",
      "Scaled Data - MSE: 2075.226230461454, R²: 0.9460571801503286\n",
      "Scaled + PCA Data - MSE: 2142.8877975335804, R²: 0.9442984052901502\n"
     ]
    }
   ],
   "source": [
    "print(f\"Raw Data - MSE: {mse_raw}, R²: {r2_raw}\")\n",
    "print(f\"Raw Data with PCA - MSE: {mse_pca_raw}, R²: {r2_pca_raw}\")\n",
    "print(f\"Scaled Data - MSE: {mse_scaled}, R²: {r2_scaled}\")\n",
    "print(f\"Scaled + PCA Data - MSE: {mse_pca_scaled}, R²: {r2_pca_scaled}\")"
   ]
  },
  {
   "cell_type": "markdown",
   "id": "b2fb2a39-3191-42b4-8d96-57cdf6f78b17",
   "metadata": {},
   "source": [
    "# II. Insighting"
   ]
  },
  {
   "cell_type": "markdown",
   "id": "14782dd3-03dc-46a8-8e3a-da0cc2feab8e",
   "metadata": {},
   "source": [
    "## 1. Compare the performance of the three models\n",
    "\n",
    "### (a) Assess the performance of the linear regression models trained on three different sets of features:\n",
    "\n",
    "• raw input features (without any preprocessing).\n",
    "\n",
    "• scaled input features (standardized but without PCA).\n",
    "\n",
    "• scaled input features with PCA applied (dimensionality reduced).\n",
    "\n",
    "The raw input data performed the best, with MSE and R2 scores at  approximately 2075.226 and 0.946 respectively.\n",
    "\n",
    "Then, there was a slight drop in performance with the scaled and PCA-reduced data. The approximate MSE and R2 score are 2142.888 and 0.944 respectively.\n",
    "\n",
    "Lastly, the PCA-reduced data without scaling performed the worst, with an MSE and R2 score of approximately 2352.895 and 0.939 respectively.\n",
    "\n",
    "### (b) Compare the models based on the MSEs and coefficients of determination on the test set.\n",
    "\n",
    "In addition to our analysis above, the scaled data (without PCA) was able to produce approximately identical results with the raw data. Its MSE is 2075.226 and its R2 score is 0.946.\n",
    "\n",
    "Based on part 1a of our insights, raw and scaled data without PCA produce the best performance in terms of MSE. They generate the lowest MSE out of the other models. Then, given that PCA-reduced data without scaling has the highest MSE, this model performs the worst in terms of MSE.\n",
    "\n",
    "Now, in terms of R2, raw and scaled data without PCA again perform best, with both scores being equal and closest to 1 out of all the models. The PCA-reduced data without scaling also performed worst, producing the lowest R2 score out of all the models. Note as well that the PCA-reduced datasets (both scaled and unscaled) produced lower R2 scores than the non-reduced datasets.\n"
   ]
  },
  {
   "cell_type": "code",
   "execution_count": 28,
   "id": "a15de16c-e864-4179-8a13-d8839f1250b4",
   "metadata": {},
   "outputs": [
    {
     "name": "stdout",
     "output_type": "stream",
     "text": [
      "Raw Data - MSE: 2075.226230461456, R²: 0.9460571801503285\n",
      "Scaled Data - MSE: 2075.226230461454, R²: 0.9460571801503286\n",
      "Scaled + PCA Data - MSE: 2142.8877975335804, R²: 0.9442984052901502\n"
     ]
    }
   ],
   "source": [
    "print(f\"Raw Data - MSE: {mse_raw}, R²: {r2_raw}\")\n",
    "print(f\"Scaled Data - MSE: {mse_scaled}, R²: {r2_scaled}\")\n",
    "print(f\"Scaled + PCA Data - MSE: {mse_pca_scaled}, R²: {r2_pca_scaled}\")"
   ]
  },
  {
   "cell_type": "markdown",
   "id": "1f04b63c-5214-4824-879e-c46052df8e84",
   "metadata": {},
   "source": [
    "## 2. Analyze the impact of scaling and dimensionality reduction\n",
    "\n",
    "### Examine the differences in MSE and regression score across the three models\n",
    "\n",
    "• Scaling for PCA: Explain why scaling may be necessary before applying PCA.\n",
    "\n",
    "PCA works under the assumption that the data is normally distributed. If the features have different scales (for instance, they are expressed in terms of different units), the algorithm might erroneously weigh the feature/s with larger values. Scaling is necessary to ensure that the features are normalized to the same scale. This then ensures optimal dimensionality reduction.\n",
    "\n",
    "• Scaling for linear regression: Discuss why scaling is important before applying linear regression.\n",
    "\n",
    "Although scaling is not necessarily required for linear regression, it ensures that each feature has a comparable contribution to the model. That is, features with larger magnitudes do not dominate the model and decrease the algorithm's stability.\n"
   ]
  },
  {
   "cell_type": "markdown",
   "id": "11f22286-bcc7-4549-b46c-4f75e532f128",
   "metadata": {},
   "source": [
    "(a) Scaling for PCA:\n",
    "Scaling before applying PCA is necessary because PCA is a variance-based method. If the data has features with different scales (e.g., floor area vs. number of rooms), features with larger values dominate the PCA results. Standardizing the data ensures all features contribute equally to the variance calculation.\n",
    "\n",
    "- Without scaling: Features with larger ranges dominate the variance, leading to biased principal components.\n",
    "- With scaling: All features are on the same scale, ensuring that PCA captures meaningful relationships in the data."
   ]
  },
  {
   "cell_type": "markdown",
   "id": "26dadbaa-1afb-4547-b8d9-dc207d37e4fc",
   "metadata": {},
   "source": [
    "(b) Scaling for Linear Regression:\n",
    "Scaling is important before applying linear regression because the model's coefficients are sensitive to the magnitudes of the input features. If features have vastly different scales (e.g., floor area in hundreds vs. number of rooms as single digits), the coefficients might not be appropriately weighted.\n",
    "\n",
    "- Without scaling: Large values (like floor area) might result in larger coefficients, making it hard to interpret the effect of smaller-scale features (like number of rooms).\n",
    "- With scaling: Linear regression coefficients become more interpretable, and the model tends to perform better in terms of convergence and accuracy."
   ]
  },
  {
   "cell_type": "markdown",
   "id": "c267e5ae-b904-4594-9f5f-ed9d3c3991fa",
   "metadata": {},
   "source": [
    "## 3. Identify Key Features in Principal Components\n"
   ]
  },
  {
   "cell_type": "code",
   "execution_count": 40,
   "id": "8db5a90f-6955-44dc-b011-9eff045abb35",
   "metadata": {},
   "outputs": [
    {
     "name": "stdout",
     "output_type": "stream",
     "text": [
      "PCA Components (Loadings):\n",
      "[[ 0.57620976  0.49050036 -0.00408638  0.32711504  0.56601303]\n",
      " [-0.31370227  0.1366389   0.10538495  0.88153259 -0.30775802]\n",
      " [-0.03492677  0.01285235 -0.99442234  0.0919297  -0.03588982]]\n"
     ]
    }
   ],
   "source": [
    "print(\"PCA Components (Loadings):\")\n",
    "print(pca_model.components_)"
   ]
  },
  {
   "cell_type": "markdown",
   "id": "7426b749-994a-4907-92ed-237d1a11e457",
   "metadata": {},
   "source": [
    "(b) Real-World Significance:\n",
    "Let’s analyze how these features align with expectations:\n",
    "\n",
    "- Floor area: Houses with larger floor areas generally have higher prices, which makes sense that this feature would heavily influence the first principal component.\n",
    "- Distance to city center: This feature typically has a negative correlation with house prices (further distance = lower price), so it is also expected to play a significant role in principal components."
   ]
  },
  {
   "cell_type": "code",
   "execution_count": null,
   "id": "916aa4cc-005c-4fdf-ac89-462c6239c275",
   "metadata": {},
   "outputs": [],
   "source": []
  }
 ],
 "metadata": {
  "kernelspec": {
   "display_name": "Python 3 (ipykernel)",
   "language": "python",
   "name": "python3"
  },
  "language_info": {
   "codemirror_mode": {
    "name": "ipython",
    "version": 3
   },
   "file_extension": ".py",
   "mimetype": "text/x-python",
   "name": "python",
   "nbconvert_exporter": "python",
   "pygments_lexer": "ipython3",
   "version": "3.11.5"
  }
 },
 "nbformat": 4,
 "nbformat_minor": 5
}
